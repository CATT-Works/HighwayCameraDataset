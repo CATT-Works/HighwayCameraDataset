{
 "cells": [
  {
   "cell_type": "code",
   "execution_count": 7,
   "metadata": {},
   "outputs": [],
   "source": [
    "import random\n",
    "from collections import defaultdict\n",
    "import numpy as np\n",
    "import matplotlib.pyplot as plt\n",
    "import matplotlib.patches as patches\n",
    "from datasets import load_dataset\n"
   ]
  },
  {
   "cell_type": "code",
   "execution_count": 2,
   "metadata": {},
   "outputs": [],
   "source": [
    "# Number of random images to display\n",
    "NUM_IMAGES = 5\n",
    "\n",
    "# Subset to view, one of train/test\n",
    "SUBSET = 'train'"
   ]
  },
  {
   "cell_type": "code",
   "execution_count": null,
   "metadata": {},
   "outputs": [],
   "source": [
    "dataset_dict = load_dataset('PrzemekS/highway-vehicles')\n",
    "\n",
    "# Access the train or test dataset\n",
    "my_dataset = dataset_dict[SUBSET]"
   ]
  },
  {
   "cell_type": "code",
   "execution_count": null,
   "metadata": {},
   "outputs": [],
   "source": [
    "# Define class names (ensure this matches your dataset)\n",
    "class_names = ['vehicle', 'truck']  \n",
    "id2label = {id: label for id, label in enumerate(class_names)}\n",
    "\n",
    "# Randomly select indices\n",
    "indices = random.sample(range(len(my_dataset)), NUM_IMAGES)\n",
    "\n",
    "for idx in indices:\n",
    "    example = my_dataset[idx]\n",
    "    image = example['image']\n",
    "    objects = example['objects']\n",
    "    bboxes = objects['bbox']        # List of bounding boxes\n",
    "    labels = objects['category']    # List of category IDs\n",
    "\n",
    "    # Convert image to numpy array\n",
    "    img_np = np.array(image)\n",
    "    height, width, _ = img_np.shape\n",
    "\n",
    "    # Create figure and axes\n",
    "    fig, ax = plt.subplots(1, figsize=(10, 10))\n",
    "    ax.imshow(img_np)\n",
    "\n",
    "    # Add bounding boxes\n",
    "    for bbox, label in zip(bboxes, labels):\n",
    "        # bbox is [xmin, ymin, width, height] in absolute pixel coordinates\n",
    "        xmin = bbox[0]\n",
    "        ymin = bbox[1]\n",
    "        box_width = bbox[2]\n",
    "        box_height = bbox[3]\n",
    "\n",
    "        # Choose color based on class label\n",
    "        if label == 0:\n",
    "            color = 'red'    # Class 0 in red\n",
    "        elif label == 1:\n",
    "            color = 'green'  # Class 1 in green\n",
    "        else:\n",
    "            color = 'blue'   # Default color for other classes\n",
    "\n",
    "        # Create a Rectangle patch\n",
    "        rect = patches.Rectangle((xmin, ymin), box_width, box_height, linewidth=2, edgecolor=color, facecolor='none')\n",
    "\n",
    "        # Add the patch to the Axes\n",
    "        ax.add_patch(rect)\n",
    "\n",
    "        # Add label\n",
    "        label_name = id2label[label]\n",
    "        plt.text(xmin, ymin - 5, label_name, color=color, fontsize=12, weight='bold')\n",
    "\n",
    "    plt.axis('off')\n",
    "    plt.show()\n"
   ]
  },
  {
   "cell_type": "markdown",
   "metadata": {},
   "source": [
    "### Calculate number of images and objects"
   ]
  },
  {
   "cell_type": "code",
   "execution_count": null,
   "metadata": {},
   "outputs": [],
   "source": [
    "class_names = ['vehicle', 'truck']  # Update with your actual class names\n",
    "id2label = {idx: label for idx, label in enumerate(class_names)}\n",
    "\n",
    "# Initialize counters\n",
    "total_images = 0\n",
    "total_objects = 0\n",
    "class_counts = defaultdict(int)\n",
    "\n",
    "# Iterate over each split in the dataset (e.g., 'train' and 'test')\n",
    "for split in dataset_dict.keys():\n",
    "    dataset = dataset_dict[split]\n",
    "    num_images = len(dataset)\n",
    "    num_objects = 0\n",
    "    split_class_counts = defaultdict(int)\n",
    "    \n",
    "    for example in dataset:\n",
    "        bboxes = example['objects']['bbox']\n",
    "        labels = example['objects']['category']\n",
    "        num_objects += len(bboxes)\n",
    "        \n",
    "        for label in labels:\n",
    "            split_class_counts[label] += 1\n",
    "            class_counts[label] += 1\n",
    "    \n",
    "    total_images += num_images\n",
    "    total_objects += num_objects\n",
    "    \n",
    "    print(f\"Split: {split}\")\n",
    "    print(f\"Number of images: {num_images:,}\")\n",
    "    print(f\"Number of objects: {num_objects:,}\")\n",
    "    print(\"Objects per class:\")\n",
    "    for label_id, count in split_class_counts.items():\n",
    "        class_name = id2label[label_id]\n",
    "        print(f\"  Class {label_id} ({class_name}): {count:,}\")\n",
    "    print()\n",
    "    \n",
    "print(f\"Total number of images: {total_images:,}\")\n",
    "print(f\"Total number of objects: {total_objects:,}\")\n",
    "print(\"Total objects per class:\")\n",
    "for label_id, count in class_counts.items():\n",
    "    class_name = id2label[label_id]\n",
    "    print(f\"  Class {label_id} ({class_name}): {count:,}\")"
   ]
  },
  {
   "cell_type": "code",
   "execution_count": null,
   "metadata": {},
   "outputs": [],
   "source": []
  }
 ],
 "metadata": {
  "kernelspec": {
   "display_name": "ts-llm",
   "language": "python",
   "name": "python3"
  },
  "language_info": {
   "codemirror_mode": {
    "name": "ipython",
    "version": 3
   },
   "file_extension": ".py",
   "mimetype": "text/x-python",
   "name": "python",
   "nbconvert_exporter": "python",
   "pygments_lexer": "ipython3",
   "version": "3.11.5"
  }
 },
 "nbformat": 4,
 "nbformat_minor": 4
}
